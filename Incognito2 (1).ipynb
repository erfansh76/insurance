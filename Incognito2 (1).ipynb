{
  "nbformat": 4,
  "nbformat_minor": 0,
  "metadata": {
    "colab": {
      "provenance": []
    },
    "kernelspec": {
      "name": "python3",
      "display_name": "Python 3"
    },
    "language_info": {
      "name": "python"
    }
  },
  "cells": [
    {
      "cell_type": "markdown",
      "source": [
        "importing libraries"
      ],
      "metadata": {
        "id": "dTkRG54iilfH"
      }
    },
    {
      "cell_type": "code",
      "execution_count": null,
      "metadata": {
        "id": "6HmSMH3KibtS"
      },
      "outputs": [],
      "source": [
        "import pandas as pd\n",
        "import itertools"
      ]
    },
    {
      "cell_type": "markdown",
      "source": [
        "Reading Data"
      ],
      "metadata": {
        "id": "h3li684Tipx9"
      }
    },
    {
      "cell_type": "code",
      "source": [
        "data = pd.read_csv('/content/insurance.csv')"
      ],
      "metadata": {
        "id": "SUOM_5W1ik0o"
      },
      "execution_count": null,
      "outputs": []
    },
    {
      "cell_type": "markdown",
      "source": [
        "Data"
      ],
      "metadata": {
        "id": "n2rzyqjRk1lA"
      }
    },
    {
      "cell_type": "code",
      "source": [
        "data.head()"
      ],
      "metadata": {
        "colab": {
          "base_uri": "https://localhost:8080/",
          "height": 206
        },
        "id": "Ma1mO2LRk1Zb",
        "outputId": "0f019c08-64c0-4301-81fe-3564c501f7a6"
      },
      "execution_count": null,
      "outputs": [
        {
          "output_type": "execute_result",
          "data": {
            "text/plain": [
              "   age     sex     bmi  children smoker     region      charges\n",
              "0   19  female  27.900         0    yes  southwest  16884.92400\n",
              "1   18    male  33.770         1     no  southeast   1725.55230\n",
              "2   28    male  33.000         3     no  southeast   4449.46200\n",
              "3   33    male  22.705         0     no  northwest  21984.47061\n",
              "4   32    male  28.880         0     no  northwest   3866.85520"
            ],
            "text/html": [
              "\n",
              "  <div id=\"df-5de357d2-4fb4-4519-b3a2-3a8a0b61247d\" class=\"colab-df-container\">\n",
              "    <div>\n",
              "<style scoped>\n",
              "    .dataframe tbody tr th:only-of-type {\n",
              "        vertical-align: middle;\n",
              "    }\n",
              "\n",
              "    .dataframe tbody tr th {\n",
              "        vertical-align: top;\n",
              "    }\n",
              "\n",
              "    .dataframe thead th {\n",
              "        text-align: right;\n",
              "    }\n",
              "</style>\n",
              "<table border=\"1\" class=\"dataframe\">\n",
              "  <thead>\n",
              "    <tr style=\"text-align: right;\">\n",
              "      <th></th>\n",
              "      <th>age</th>\n",
              "      <th>sex</th>\n",
              "      <th>bmi</th>\n",
              "      <th>children</th>\n",
              "      <th>smoker</th>\n",
              "      <th>region</th>\n",
              "      <th>charges</th>\n",
              "    </tr>\n",
              "  </thead>\n",
              "  <tbody>\n",
              "    <tr>\n",
              "      <th>0</th>\n",
              "      <td>19</td>\n",
              "      <td>female</td>\n",
              "      <td>27.900</td>\n",
              "      <td>0</td>\n",
              "      <td>yes</td>\n",
              "      <td>southwest</td>\n",
              "      <td>16884.92400</td>\n",
              "    </tr>\n",
              "    <tr>\n",
              "      <th>1</th>\n",
              "      <td>18</td>\n",
              "      <td>male</td>\n",
              "      <td>33.770</td>\n",
              "      <td>1</td>\n",
              "      <td>no</td>\n",
              "      <td>southeast</td>\n",
              "      <td>1725.55230</td>\n",
              "    </tr>\n",
              "    <tr>\n",
              "      <th>2</th>\n",
              "      <td>28</td>\n",
              "      <td>male</td>\n",
              "      <td>33.000</td>\n",
              "      <td>3</td>\n",
              "      <td>no</td>\n",
              "      <td>southeast</td>\n",
              "      <td>4449.46200</td>\n",
              "    </tr>\n",
              "    <tr>\n",
              "      <th>3</th>\n",
              "      <td>33</td>\n",
              "      <td>male</td>\n",
              "      <td>22.705</td>\n",
              "      <td>0</td>\n",
              "      <td>no</td>\n",
              "      <td>northwest</td>\n",
              "      <td>21984.47061</td>\n",
              "    </tr>\n",
              "    <tr>\n",
              "      <th>4</th>\n",
              "      <td>32</td>\n",
              "      <td>male</td>\n",
              "      <td>28.880</td>\n",
              "      <td>0</td>\n",
              "      <td>no</td>\n",
              "      <td>northwest</td>\n",
              "      <td>3866.85520</td>\n",
              "    </tr>\n",
              "  </tbody>\n",
              "</table>\n",
              "</div>\n",
              "    <div class=\"colab-df-buttons\">\n",
              "\n",
              "  <div class=\"colab-df-container\">\n",
              "    <button class=\"colab-df-convert\" onclick=\"convertToInteractive('df-5de357d2-4fb4-4519-b3a2-3a8a0b61247d')\"\n",
              "            title=\"Convert this dataframe to an interactive table.\"\n",
              "            style=\"display:none;\">\n",
              "\n",
              "  <svg xmlns=\"http://www.w3.org/2000/svg\" height=\"24px\" viewBox=\"0 -960 960 960\">\n",
              "    <path d=\"M120-120v-720h720v720H120Zm60-500h600v-160H180v160Zm220 220h160v-160H400v160Zm0 220h160v-160H400v160ZM180-400h160v-160H180v160Zm440 0h160v-160H620v160ZM180-180h160v-160H180v160Zm440 0h160v-160H620v160Z\"/>\n",
              "  </svg>\n",
              "    </button>\n",
              "\n",
              "  <style>\n",
              "    .colab-df-container {\n",
              "      display:flex;\n",
              "      gap: 12px;\n",
              "    }\n",
              "\n",
              "    .colab-df-convert {\n",
              "      background-color: #E8F0FE;\n",
              "      border: none;\n",
              "      border-radius: 50%;\n",
              "      cursor: pointer;\n",
              "      display: none;\n",
              "      fill: #1967D2;\n",
              "      height: 32px;\n",
              "      padding: 0 0 0 0;\n",
              "      width: 32px;\n",
              "    }\n",
              "\n",
              "    .colab-df-convert:hover {\n",
              "      background-color: #E2EBFA;\n",
              "      box-shadow: 0px 1px 2px rgba(60, 64, 67, 0.3), 0px 1px 3px 1px rgba(60, 64, 67, 0.15);\n",
              "      fill: #174EA6;\n",
              "    }\n",
              "\n",
              "    .colab-df-buttons div {\n",
              "      margin-bottom: 4px;\n",
              "    }\n",
              "\n",
              "    [theme=dark] .colab-df-convert {\n",
              "      background-color: #3B4455;\n",
              "      fill: #D2E3FC;\n",
              "    }\n",
              "\n",
              "    [theme=dark] .colab-df-convert:hover {\n",
              "      background-color: #434B5C;\n",
              "      box-shadow: 0px 1px 3px 1px rgba(0, 0, 0, 0.15);\n",
              "      filter: drop-shadow(0px 1px 2px rgba(0, 0, 0, 0.3));\n",
              "      fill: #FFFFFF;\n",
              "    }\n",
              "  </style>\n",
              "\n",
              "    <script>\n",
              "      const buttonEl =\n",
              "        document.querySelector('#df-5de357d2-4fb4-4519-b3a2-3a8a0b61247d button.colab-df-convert');\n",
              "      buttonEl.style.display =\n",
              "        google.colab.kernel.accessAllowed ? 'block' : 'none';\n",
              "\n",
              "      async function convertToInteractive(key) {\n",
              "        const element = document.querySelector('#df-5de357d2-4fb4-4519-b3a2-3a8a0b61247d');\n",
              "        const dataTable =\n",
              "          await google.colab.kernel.invokeFunction('convertToInteractive',\n",
              "                                                    [key], {});\n",
              "        if (!dataTable) return;\n",
              "\n",
              "        const docLinkHtml = 'Like what you see? Visit the ' +\n",
              "          '<a target=\"_blank\" href=https://colab.research.google.com/notebooks/data_table.ipynb>data table notebook</a>'\n",
              "          + ' to learn more about interactive tables.';\n",
              "        element.innerHTML = '';\n",
              "        dataTable['output_type'] = 'display_data';\n",
              "        await google.colab.output.renderOutput(dataTable, element);\n",
              "        const docLink = document.createElement('div');\n",
              "        docLink.innerHTML = docLinkHtml;\n",
              "        element.appendChild(docLink);\n",
              "      }\n",
              "    </script>\n",
              "  </div>\n",
              "\n",
              "\n",
              "<div id=\"df-f0f0dbea-92da-4c7b-be86-de33673005e5\">\n",
              "  <button class=\"colab-df-quickchart\" onclick=\"quickchart('df-f0f0dbea-92da-4c7b-be86-de33673005e5')\"\n",
              "            title=\"Suggest charts.\"\n",
              "            style=\"display:none;\">\n",
              "\n",
              "<svg xmlns=\"http://www.w3.org/2000/svg\" height=\"24px\"viewBox=\"0 0 24 24\"\n",
              "     width=\"24px\">\n",
              "    <g>\n",
              "        <path d=\"M19 3H5c-1.1 0-2 .9-2 2v14c0 1.1.9 2 2 2h14c1.1 0 2-.9 2-2V5c0-1.1-.9-2-2-2zM9 17H7v-7h2v7zm4 0h-2V7h2v10zm4 0h-2v-4h2v4z\"/>\n",
              "    </g>\n",
              "</svg>\n",
              "  </button>\n",
              "\n",
              "<style>\n",
              "  .colab-df-quickchart {\n",
              "      --bg-color: #E8F0FE;\n",
              "      --fill-color: #1967D2;\n",
              "      --hover-bg-color: #E2EBFA;\n",
              "      --hover-fill-color: #174EA6;\n",
              "      --disabled-fill-color: #AAA;\n",
              "      --disabled-bg-color: #DDD;\n",
              "  }\n",
              "\n",
              "  [theme=dark] .colab-df-quickchart {\n",
              "      --bg-color: #3B4455;\n",
              "      --fill-color: #D2E3FC;\n",
              "      --hover-bg-color: #434B5C;\n",
              "      --hover-fill-color: #FFFFFF;\n",
              "      --disabled-bg-color: #3B4455;\n",
              "      --disabled-fill-color: #666;\n",
              "  }\n",
              "\n",
              "  .colab-df-quickchart {\n",
              "    background-color: var(--bg-color);\n",
              "    border: none;\n",
              "    border-radius: 50%;\n",
              "    cursor: pointer;\n",
              "    display: none;\n",
              "    fill: var(--fill-color);\n",
              "    height: 32px;\n",
              "    padding: 0;\n",
              "    width: 32px;\n",
              "  }\n",
              "\n",
              "  .colab-df-quickchart:hover {\n",
              "    background-color: var(--hover-bg-color);\n",
              "    box-shadow: 0 1px 2px rgba(60, 64, 67, 0.3), 0 1px 3px 1px rgba(60, 64, 67, 0.15);\n",
              "    fill: var(--button-hover-fill-color);\n",
              "  }\n",
              "\n",
              "  .colab-df-quickchart-complete:disabled,\n",
              "  .colab-df-quickchart-complete:disabled:hover {\n",
              "    background-color: var(--disabled-bg-color);\n",
              "    fill: var(--disabled-fill-color);\n",
              "    box-shadow: none;\n",
              "  }\n",
              "\n",
              "  .colab-df-spinner {\n",
              "    border: 2px solid var(--fill-color);\n",
              "    border-color: transparent;\n",
              "    border-bottom-color: var(--fill-color);\n",
              "    animation:\n",
              "      spin 1s steps(1) infinite;\n",
              "  }\n",
              "\n",
              "  @keyframes spin {\n",
              "    0% {\n",
              "      border-color: transparent;\n",
              "      border-bottom-color: var(--fill-color);\n",
              "      border-left-color: var(--fill-color);\n",
              "    }\n",
              "    20% {\n",
              "      border-color: transparent;\n",
              "      border-left-color: var(--fill-color);\n",
              "      border-top-color: var(--fill-color);\n",
              "    }\n",
              "    30% {\n",
              "      border-color: transparent;\n",
              "      border-left-color: var(--fill-color);\n",
              "      border-top-color: var(--fill-color);\n",
              "      border-right-color: var(--fill-color);\n",
              "    }\n",
              "    40% {\n",
              "      border-color: transparent;\n",
              "      border-right-color: var(--fill-color);\n",
              "      border-top-color: var(--fill-color);\n",
              "    }\n",
              "    60% {\n",
              "      border-color: transparent;\n",
              "      border-right-color: var(--fill-color);\n",
              "    }\n",
              "    80% {\n",
              "      border-color: transparent;\n",
              "      border-right-color: var(--fill-color);\n",
              "      border-bottom-color: var(--fill-color);\n",
              "    }\n",
              "    90% {\n",
              "      border-color: transparent;\n",
              "      border-bottom-color: var(--fill-color);\n",
              "    }\n",
              "  }\n",
              "</style>\n",
              "\n",
              "  <script>\n",
              "    async function quickchart(key) {\n",
              "      const quickchartButtonEl =\n",
              "        document.querySelector('#' + key + ' button');\n",
              "      quickchartButtonEl.disabled = true;  // To prevent multiple clicks.\n",
              "      quickchartButtonEl.classList.add('colab-df-spinner');\n",
              "      try {\n",
              "        const charts = await google.colab.kernel.invokeFunction(\n",
              "            'suggestCharts', [key], {});\n",
              "      } catch (error) {\n",
              "        console.error('Error during call to suggestCharts:', error);\n",
              "      }\n",
              "      quickchartButtonEl.classList.remove('colab-df-spinner');\n",
              "      quickchartButtonEl.classList.add('colab-df-quickchart-complete');\n",
              "    }\n",
              "    (() => {\n",
              "      let quickchartButtonEl =\n",
              "        document.querySelector('#df-f0f0dbea-92da-4c7b-be86-de33673005e5 button');\n",
              "      quickchartButtonEl.style.display =\n",
              "        google.colab.kernel.accessAllowed ? 'block' : 'none';\n",
              "    })();\n",
              "  </script>\n",
              "</div>\n",
              "    </div>\n",
              "  </div>\n"
            ]
          },
          "metadata": {},
          "execution_count": 3
        }
      ]
    },
    {
      "cell_type": "code",
      "source": [
        "data.dtypes"
      ],
      "metadata": {
        "colab": {
          "base_uri": "https://localhost:8080/"
        },
        "id": "Wr9fDmK2k954",
        "outputId": "b3dd404d-950b-4bf4-da8f-892969262f7f"
      },
      "execution_count": null,
      "outputs": [
        {
          "output_type": "execute_result",
          "data": {
            "text/plain": [
              "age           int64\n",
              "sex          object\n",
              "bmi         float64\n",
              "children      int64\n",
              "smoker       object\n",
              "region       object\n",
              "charges     float64\n",
              "dtype: object"
            ]
          },
          "metadata": {},
          "execution_count": 4
        }
      ]
    },
    {
      "cell_type": "markdown",
      "source": [
        "Defining Q"
      ],
      "metadata": {
        "id": "g_tjhJuGnK2e"
      }
    },
    {
      "cell_type": "code",
      "source": [
        "quasi_identifiers = ['age', 'sex', 'bmi', 'charges']"
      ],
      "metadata": {
        "id": "9gkL7ENVnKkE"
      },
      "execution_count": null,
      "outputs": []
    },
    {
      "cell_type": "markdown",
      "source": [
        "Frequency Set\n"
      ],
      "metadata": {
        "id": "71EtWyFTnZ8x"
      }
    },
    {
      "cell_type": "code",
      "source": [
        "# frequencySet = lambda table, columns: table.groupby(columns).size()\n",
        "\n",
        "def k_Anonymous(table, q, k):\n",
        "  for freq in table.groupby(q).size():\n",
        "    if freq < k:\n",
        "      return False\n",
        "  return True"
      ],
      "metadata": {
        "id": "7URuJ1YJnccY"
      },
      "execution_count": null,
      "outputs": []
    },
    {
      "cell_type": "markdown",
      "source": [
        "Check if the table is k anonymized"
      ],
      "metadata": {
        "id": "VhsvV6EvpBNa"
      }
    },
    {
      "cell_type": "code",
      "source": [
        "k_Anonymous(data, quasi_identifiers, 1)"
      ],
      "metadata": {
        "colab": {
          "base_uri": "https://localhost:8080/"
        },
        "id": "yZ4wXUBfpATY",
        "outputId": "8f64f8b7-5d5f-4c02-aeb9-936eaaddfafd"
      },
      "execution_count": null,
      "outputs": [
        {
          "output_type": "execute_result",
          "data": {
            "text/plain": [
              "True"
            ]
          },
          "metadata": {},
          "execution_count": 7
        }
      ]
    },
    {
      "cell_type": "markdown",
      "source": [
        "Defining Generalization Hirarchy\n",
        "\n",
        "SEX -> p\n",
        "\n",
        "age :\n",
        "\n",
        "10 <= age < 30\n",
        "\n",
        "30 <= age < 50\n",
        "\n",
        "50 <= age < 70\n",
        "\n",
        "70 <= age < inf\n",
        "\n",
        "\n",
        "bmi :\n",
        "\n",
        "xx.xxx -> xx.xx*\n",
        "\n",
        "xx.xx* -> xx.x**\n",
        "\n",
        "xx.x** -> xx.***\n",
        "\n",
        "\n",
        "Charges:\n",
        "\n",
        "xxxx.xxxxx -> xxxx.xxx**\n",
        "\n",
        "xxxx.xxx** -> xxxx.x****\n",
        "\n",
        "xxxx.x**** -> xxx*.*****\n",
        "\n"
      ],
      "metadata": {
        "id": "4axSZVsppcPQ"
      }
    },
    {
      "cell_type": "code",
      "source": [
        "generalizations = {'sex' : 1, 'age': 1, 'bmi' : 3, 'charges' : 3}"
      ],
      "metadata": {
        "id": "zJltaiy693nu"
      },
      "execution_count": null,
      "outputs": []
    },
    {
      "cell_type": "markdown",
      "source": [
        "Defining generalization functions"
      ],
      "metadata": {
        "id": "oebxkxymrTwB"
      }
    },
    {
      "cell_type": "code",
      "source": [
        "# sex\n",
        "def sex_zero_gen(column):\n",
        "  return column\n",
        "\n",
        "def sex_first_gen(column):\n",
        "  return 'p'\n",
        "\n",
        "# age\n",
        "def age_zero_gen(column):\n",
        "  return column\n",
        "\n",
        "def age_first_gen(column):\n",
        "  if column < 10:\n",
        "    return '-10'\n",
        "  elif column >= 10 and column < 30:\n",
        "    return '10-30'\n",
        "  elif column >= 30 and column < 50:\n",
        "    return '30-50'\n",
        "  elif column >= 50 and column < 70:\n",
        "    return '50-70'\n",
        "  else:\n",
        "    return '70+'\n",
        "\n",
        "# bmi\n",
        "def bmi_zero_gen(column):\n",
        "  return column\n",
        "\n",
        "def bmi_first_gen(column):\n",
        "\n",
        "  return str(column)[:-1] + '*'\n",
        "\n",
        "def bmi_second_gen(column):\n",
        "  return str(column)[:-2] + '**'\n",
        "\n",
        "def bmi_third_gen(column):\n",
        "  return '*'\n",
        "\n",
        "# Charges\n",
        "def charges_zero_gen(column):\n",
        "  return column\n",
        "\n",
        "def charges_first_gen(column):\n",
        "  return str(column)[:-2] + '**'\n",
        "\n",
        "def charges_second_gen(column):\n",
        "  return str(column)[:-4] + '****'\n",
        "\n",
        "def charges_third_gen(column):\n",
        "  return '*'"
      ],
      "metadata": {
        "id": "tjrrei1urTcd"
      },
      "execution_count": null,
      "outputs": []
    },
    {
      "cell_type": "markdown",
      "source": [
        "Generalization"
      ],
      "metadata": {
        "id": "nFq6dUMk_27V"
      }
    },
    {
      "cell_type": "code",
      "source": [
        "def get_generalization_function(column, level = 0):\n",
        "  if column == 'age':\n",
        "    if level == 0:\n",
        "      return age_zero_gen\n",
        "    elif level == 1:\n",
        "      return age_first_gen\n",
        "\n",
        "  elif column == 'sex':\n",
        "    if level == 0:\n",
        "      return sex_zero_gen\n",
        "    elif level == 1:\n",
        "      return sex_first_gen\n",
        "  elif column == 'bmi':\n",
        "    if level == 0:\n",
        "      return bmi_zero_gen\n",
        "    elif level == 1:\n",
        "      return bmi_first_gen\n",
        "    elif level == 2:\n",
        "      return bmi_second_gen\n",
        "    elif level == 3:\n",
        "      return bmi_third_gen\n",
        "  elif column == 'charges':\n",
        "    if level == 0:\n",
        "      return charges_zero_gen\n",
        "    elif level == 1:\n",
        "      return charges_first_gen\n",
        "    elif level == 2:\n",
        "      return charges_second_gen\n",
        "    elif level == 3:\n",
        "      return charges_third_gen\n"
      ],
      "metadata": {
        "id": "-Bqr-59B9P4p"
      },
      "execution_count": null,
      "outputs": []
    },
    {
      "cell_type": "markdown",
      "source": [
        "Hirarchy"
      ],
      "metadata": {
        "id": "KBxrwo0P9rLi"
      }
    },
    {
      "cell_type": "code",
      "source": [
        "def generate_combinations(dictionary):\n",
        "    keys = list(dictionary.keys())\n",
        "\n",
        "    def helper(index, current_combination):\n",
        "        if index == len(keys):\n",
        "            return [current_combination]\n",
        "\n",
        "        key = keys[index]\n",
        "        value = dictionary[key]\n",
        "        combinations = []\n",
        "\n",
        "        for i in range(value + 1):\n",
        "            new_combination = current_combination.copy()\n",
        "            new_combination[key] = i\n",
        "            combinations.extend(helper(index + 1, new_combination))\n",
        "\n",
        "        return combinations\n",
        "\n",
        "    return helper(0, {})\n"
      ],
      "metadata": {
        "id": "0AK-7Lmy9tKN"
      },
      "execution_count": null,
      "outputs": []
    },
    {
      "cell_type": "code",
      "source": [
        "generalizations"
      ],
      "metadata": {
        "colab": {
          "base_uri": "https://localhost:8080/"
        },
        "id": "HVu6UXP1KHZq",
        "outputId": "527640f1-12d7-4c12-9256-78cdaae5e616"
      },
      "execution_count": null,
      "outputs": [
        {
          "output_type": "execute_result",
          "data": {
            "text/plain": [
              "{'sex': 1, 'age': 1, 'bmi': 3, 'charges': 3}"
            ]
          },
          "metadata": {},
          "execution_count": 12
        }
      ]
    },
    {
      "cell_type": "code",
      "source": [
        "len(generate_combinations(generalizations))"
      ],
      "metadata": {
        "colab": {
          "base_uri": "https://localhost:8080/"
        },
        "id": "X-vo2rSZJpHP",
        "outputId": "d6d06419-4992-4617-f55c-b836b4a72c5a"
      },
      "execution_count": null,
      "outputs": [
        {
          "output_type": "execute_result",
          "data": {
            "text/plain": [
              "64"
            ]
          },
          "metadata": {},
          "execution_count": 13
        }
      ]
    },
    {
      "cell_type": "code",
      "source": [
        "generate_combinations(generalizations)"
      ],
      "metadata": {
        "colab": {
          "base_uri": "https://localhost:8080/"
        },
        "id": "I7HCPXZCLQfZ",
        "outputId": "85b2c1cd-2f15-4b9f-f52a-14b1b55ca69d"
      },
      "execution_count": null,
      "outputs": [
        {
          "output_type": "execute_result",
          "data": {
            "text/plain": [
              "[{'sex': 0, 'age': 0, 'bmi': 0, 'charges': 0},\n",
              " {'sex': 0, 'age': 0, 'bmi': 0, 'charges': 1},\n",
              " {'sex': 0, 'age': 0, 'bmi': 0, 'charges': 2},\n",
              " {'sex': 0, 'age': 0, 'bmi': 0, 'charges': 3},\n",
              " {'sex': 0, 'age': 0, 'bmi': 1, 'charges': 0},\n",
              " {'sex': 0, 'age': 0, 'bmi': 1, 'charges': 1},\n",
              " {'sex': 0, 'age': 0, 'bmi': 1, 'charges': 2},\n",
              " {'sex': 0, 'age': 0, 'bmi': 1, 'charges': 3},\n",
              " {'sex': 0, 'age': 0, 'bmi': 2, 'charges': 0},\n",
              " {'sex': 0, 'age': 0, 'bmi': 2, 'charges': 1},\n",
              " {'sex': 0, 'age': 0, 'bmi': 2, 'charges': 2},\n",
              " {'sex': 0, 'age': 0, 'bmi': 2, 'charges': 3},\n",
              " {'sex': 0, 'age': 0, 'bmi': 3, 'charges': 0},\n",
              " {'sex': 0, 'age': 0, 'bmi': 3, 'charges': 1},\n",
              " {'sex': 0, 'age': 0, 'bmi': 3, 'charges': 2},\n",
              " {'sex': 0, 'age': 0, 'bmi': 3, 'charges': 3},\n",
              " {'sex': 0, 'age': 1, 'bmi': 0, 'charges': 0},\n",
              " {'sex': 0, 'age': 1, 'bmi': 0, 'charges': 1},\n",
              " {'sex': 0, 'age': 1, 'bmi': 0, 'charges': 2},\n",
              " {'sex': 0, 'age': 1, 'bmi': 0, 'charges': 3},\n",
              " {'sex': 0, 'age': 1, 'bmi': 1, 'charges': 0},\n",
              " {'sex': 0, 'age': 1, 'bmi': 1, 'charges': 1},\n",
              " {'sex': 0, 'age': 1, 'bmi': 1, 'charges': 2},\n",
              " {'sex': 0, 'age': 1, 'bmi': 1, 'charges': 3},\n",
              " {'sex': 0, 'age': 1, 'bmi': 2, 'charges': 0},\n",
              " {'sex': 0, 'age': 1, 'bmi': 2, 'charges': 1},\n",
              " {'sex': 0, 'age': 1, 'bmi': 2, 'charges': 2},\n",
              " {'sex': 0, 'age': 1, 'bmi': 2, 'charges': 3},\n",
              " {'sex': 0, 'age': 1, 'bmi': 3, 'charges': 0},\n",
              " {'sex': 0, 'age': 1, 'bmi': 3, 'charges': 1},\n",
              " {'sex': 0, 'age': 1, 'bmi': 3, 'charges': 2},\n",
              " {'sex': 0, 'age': 1, 'bmi': 3, 'charges': 3},\n",
              " {'sex': 1, 'age': 0, 'bmi': 0, 'charges': 0},\n",
              " {'sex': 1, 'age': 0, 'bmi': 0, 'charges': 1},\n",
              " {'sex': 1, 'age': 0, 'bmi': 0, 'charges': 2},\n",
              " {'sex': 1, 'age': 0, 'bmi': 0, 'charges': 3},\n",
              " {'sex': 1, 'age': 0, 'bmi': 1, 'charges': 0},\n",
              " {'sex': 1, 'age': 0, 'bmi': 1, 'charges': 1},\n",
              " {'sex': 1, 'age': 0, 'bmi': 1, 'charges': 2},\n",
              " {'sex': 1, 'age': 0, 'bmi': 1, 'charges': 3},\n",
              " {'sex': 1, 'age': 0, 'bmi': 2, 'charges': 0},\n",
              " {'sex': 1, 'age': 0, 'bmi': 2, 'charges': 1},\n",
              " {'sex': 1, 'age': 0, 'bmi': 2, 'charges': 2},\n",
              " {'sex': 1, 'age': 0, 'bmi': 2, 'charges': 3},\n",
              " {'sex': 1, 'age': 0, 'bmi': 3, 'charges': 0},\n",
              " {'sex': 1, 'age': 0, 'bmi': 3, 'charges': 1},\n",
              " {'sex': 1, 'age': 0, 'bmi': 3, 'charges': 2},\n",
              " {'sex': 1, 'age': 0, 'bmi': 3, 'charges': 3},\n",
              " {'sex': 1, 'age': 1, 'bmi': 0, 'charges': 0},\n",
              " {'sex': 1, 'age': 1, 'bmi': 0, 'charges': 1},\n",
              " {'sex': 1, 'age': 1, 'bmi': 0, 'charges': 2},\n",
              " {'sex': 1, 'age': 1, 'bmi': 0, 'charges': 3},\n",
              " {'sex': 1, 'age': 1, 'bmi': 1, 'charges': 0},\n",
              " {'sex': 1, 'age': 1, 'bmi': 1, 'charges': 1},\n",
              " {'sex': 1, 'age': 1, 'bmi': 1, 'charges': 2},\n",
              " {'sex': 1, 'age': 1, 'bmi': 1, 'charges': 3},\n",
              " {'sex': 1, 'age': 1, 'bmi': 2, 'charges': 0},\n",
              " {'sex': 1, 'age': 1, 'bmi': 2, 'charges': 1},\n",
              " {'sex': 1, 'age': 1, 'bmi': 2, 'charges': 2},\n",
              " {'sex': 1, 'age': 1, 'bmi': 2, 'charges': 3},\n",
              " {'sex': 1, 'age': 1, 'bmi': 3, 'charges': 0},\n",
              " {'sex': 1, 'age': 1, 'bmi': 3, 'charges': 1},\n",
              " {'sex': 1, 'age': 1, 'bmi': 3, 'charges': 2},\n",
              " {'sex': 1, 'age': 1, 'bmi': 3, 'charges': 3}]"
            ]
          },
          "metadata": {},
          "execution_count": 14
        }
      ]
    },
    {
      "cell_type": "markdown",
      "source": [
        "Remove direct generalizations"
      ],
      "metadata": {
        "id": "6QF_vRDZBngC"
      }
    },
    {
      "cell_type": "code",
      "source": [
        "def is_direct_generalization(ref, gen):\n",
        "  one_diff = False\n",
        "  for key in ref:\n",
        "    if ref[key] - gen[key] not in [0,-1]:\n",
        "      return False\n",
        "    elif ref[key] - gen[key] in [-1]:\n",
        "      if one_diff:\n",
        "        return False\n",
        "      else:\n",
        "        one_diff = True\n",
        "  return True\n",
        "\n",
        "\n",
        "def remove_direct_generalizations(ref, generalizations):\n",
        "  filtered = []\n",
        "  removed = []\n",
        "\n",
        "  for comb in generalizations:\n",
        "    if is_direct_generalization(ref, comb):\n",
        "      removed.append(comb)\n",
        "    else:\n",
        "      filtered.append(comb)\n",
        "\n",
        "  return filtered, removed\n"
      ],
      "metadata": {
        "id": "NRbdrUeBBqFI"
      },
      "execution_count": null,
      "outputs": []
    },
    {
      "cell_type": "code",
      "source": [
        "is_direct_generalization({'sex': 0, 'age': 0, 'bmi': 0, 'charges': 0}, {'sex': 0, 'age': 0, 'bmi': 0, 'charges': 2})"
      ],
      "metadata": {
        "colab": {
          "base_uri": "https://localhost:8080/"
        },
        "id": "32O8RmutMNHm",
        "outputId": "3afe5fba-89ff-430e-e935-dc8082857c4f"
      },
      "execution_count": null,
      "outputs": [
        {
          "output_type": "execute_result",
          "data": {
            "text/plain": [
              "False"
            ]
          },
          "metadata": {},
          "execution_count": 16
        }
      ]
    },
    {
      "cell_type": "code",
      "source": [
        "hirarchy = generate_combinations(generalizations)\n",
        "filterd, removed = remove_direct_generalizations({'sex': 0, 'age': 0, 'bmi': 0, 'charges': 0}, hirarchy)\n",
        "print(removed)\n",
        "print(\"---------------------\")\n",
        "print(filterd)"
      ],
      "metadata": {
        "colab": {
          "base_uri": "https://localhost:8080/"
        },
        "id": "rMi1b_riJT7z",
        "outputId": "4b6d8f46-d1c9-4ed8-b11b-a4d7a3572c68"
      },
      "execution_count": null,
      "outputs": [
        {
          "output_type": "stream",
          "name": "stdout",
          "text": [
            "[{'sex': 0, 'age': 0, 'bmi': 0, 'charges': 0}]\n",
            "---------------------\n",
            "[{'sex': 0, 'age': 0, 'bmi': 0, 'charges': 1}, {'sex': 0, 'age': 0, 'bmi': 0, 'charges': 2}, {'sex': 0, 'age': 0, 'bmi': 0, 'charges': 3}, {'sex': 0, 'age': 0, 'bmi': 1, 'charges': 0}, {'sex': 0, 'age': 0, 'bmi': 1, 'charges': 1}, {'sex': 0, 'age': 0, 'bmi': 1, 'charges': 2}, {'sex': 0, 'age': 0, 'bmi': 1, 'charges': 3}, {'sex': 0, 'age': 0, 'bmi': 2, 'charges': 0}, {'sex': 0, 'age': 0, 'bmi': 2, 'charges': 1}, {'sex': 0, 'age': 0, 'bmi': 2, 'charges': 2}, {'sex': 0, 'age': 0, 'bmi': 2, 'charges': 3}, {'sex': 0, 'age': 0, 'bmi': 3, 'charges': 0}, {'sex': 0, 'age': 0, 'bmi': 3, 'charges': 1}, {'sex': 0, 'age': 0, 'bmi': 3, 'charges': 2}, {'sex': 0, 'age': 0, 'bmi': 3, 'charges': 3}, {'sex': 0, 'age': 1, 'bmi': 0, 'charges': 0}, {'sex': 0, 'age': 1, 'bmi': 0, 'charges': 1}, {'sex': 0, 'age': 1, 'bmi': 0, 'charges': 2}, {'sex': 0, 'age': 1, 'bmi': 0, 'charges': 3}, {'sex': 0, 'age': 1, 'bmi': 1, 'charges': 0}, {'sex': 0, 'age': 1, 'bmi': 1, 'charges': 1}, {'sex': 0, 'age': 1, 'bmi': 1, 'charges': 2}, {'sex': 0, 'age': 1, 'bmi': 1, 'charges': 3}, {'sex': 0, 'age': 1, 'bmi': 2, 'charges': 0}, {'sex': 0, 'age': 1, 'bmi': 2, 'charges': 1}, {'sex': 0, 'age': 1, 'bmi': 2, 'charges': 2}, {'sex': 0, 'age': 1, 'bmi': 2, 'charges': 3}, {'sex': 0, 'age': 1, 'bmi': 3, 'charges': 0}, {'sex': 0, 'age': 1, 'bmi': 3, 'charges': 1}, {'sex': 0, 'age': 1, 'bmi': 3, 'charges': 2}, {'sex': 0, 'age': 1, 'bmi': 3, 'charges': 3}, {'sex': 1, 'age': 0, 'bmi': 0, 'charges': 0}, {'sex': 1, 'age': 0, 'bmi': 0, 'charges': 1}, {'sex': 1, 'age': 0, 'bmi': 0, 'charges': 2}, {'sex': 1, 'age': 0, 'bmi': 0, 'charges': 3}, {'sex': 1, 'age': 0, 'bmi': 1, 'charges': 0}, {'sex': 1, 'age': 0, 'bmi': 1, 'charges': 1}, {'sex': 1, 'age': 0, 'bmi': 1, 'charges': 2}, {'sex': 1, 'age': 0, 'bmi': 1, 'charges': 3}, {'sex': 1, 'age': 0, 'bmi': 2, 'charges': 0}, {'sex': 1, 'age': 0, 'bmi': 2, 'charges': 1}, {'sex': 1, 'age': 0, 'bmi': 2, 'charges': 2}, {'sex': 1, 'age': 0, 'bmi': 2, 'charges': 3}, {'sex': 1, 'age': 0, 'bmi': 3, 'charges': 0}, {'sex': 1, 'age': 0, 'bmi': 3, 'charges': 1}, {'sex': 1, 'age': 0, 'bmi': 3, 'charges': 2}, {'sex': 1, 'age': 0, 'bmi': 3, 'charges': 3}, {'sex': 1, 'age': 1, 'bmi': 0, 'charges': 0}, {'sex': 1, 'age': 1, 'bmi': 0, 'charges': 1}, {'sex': 1, 'age': 1, 'bmi': 0, 'charges': 2}, {'sex': 1, 'age': 1, 'bmi': 0, 'charges': 3}, {'sex': 1, 'age': 1, 'bmi': 1, 'charges': 0}, {'sex': 1, 'age': 1, 'bmi': 1, 'charges': 1}, {'sex': 1, 'age': 1, 'bmi': 1, 'charges': 2}, {'sex': 1, 'age': 1, 'bmi': 1, 'charges': 3}, {'sex': 1, 'age': 1, 'bmi': 2, 'charges': 0}, {'sex': 1, 'age': 1, 'bmi': 2, 'charges': 1}, {'sex': 1, 'age': 1, 'bmi': 2, 'charges': 2}, {'sex': 1, 'age': 1, 'bmi': 2, 'charges': 3}, {'sex': 1, 'age': 1, 'bmi': 3, 'charges': 0}, {'sex': 1, 'age': 1, 'bmi': 3, 'charges': 1}, {'sex': 1, 'age': 1, 'bmi': 3, 'charges': 2}, {'sex': 1, 'age': 1, 'bmi': 3, 'charges': 3}]\n"
          ]
        }
      ]
    },
    {
      "cell_type": "markdown",
      "source": [
        "Generalize Table"
      ],
      "metadata": {
        "id": "yzvyGio6PXfL"
      }
    },
    {
      "cell_type": "code",
      "source": [
        "def generalize(node, data):\n",
        "  result = data.copy()\n",
        "  for column in node:\n",
        "    function = get_generalization_function(column, node[column])\n",
        "    result[column] = result[column].apply(function)\n",
        "\n",
        "  return result"
      ],
      "metadata": {
        "id": "C9wMP9dTPZ76"
      },
      "execution_count": null,
      "outputs": []
    },
    {
      "cell_type": "code",
      "source": [
        "df = generalize({'sex': 1, 'age': 1, 'bmi': 1, 'charges': 1}, data)"
      ],
      "metadata": {
        "id": "a1v0X35hIhAZ"
      },
      "execution_count": null,
      "outputs": []
    },
    {
      "cell_type": "code",
      "source": [
        "df"
      ],
      "metadata": {
        "colab": {
          "base_uri": "https://localhost:8080/",
          "height": 424
        },
        "id": "MIdxFgjxJZyj",
        "outputId": "5694f545-00cf-4fca-b685-8f156252d5a7"
      },
      "execution_count": null,
      "outputs": [
        {
          "output_type": "execute_result",
          "data": {
            "text/plain": [
              "        age sex     bmi  children smoker     region      charges\n",
              "0     10-30   p    27.*         0    yes  southwest    16884.9**\n",
              "1     10-30   p   33.7*         1     no  southeast    1725.55**\n",
              "2     10-30   p    33.*         3     no  southeast     4449.4**\n",
              "3     30-50   p  22.70*         0     no  northwest  21984.470**\n",
              "4     30-50   p   28.8*         0     no  northwest    3866.85**\n",
              "...     ...  ..     ...       ...    ...        ...          ...\n",
              "1333  50-70   p   30.9*         3     no  northwest   10600.54**\n",
              "1334  10-30   p   31.9*         0     no  northeast    2205.98**\n",
              "1335  10-30   p   36.8*         0     no  southeast    1629.83**\n",
              "1336  10-30   p    25.*         0     no  southwest     2007.9**\n",
              "1337  50-70   p   29.0*         0    yes  northwest   29141.36**\n",
              "\n",
              "[1338 rows x 7 columns]"
            ],
            "text/html": [
              "\n",
              "  <div id=\"df-09ad69bf-9265-438b-9c30-d6b04a6e51c1\" class=\"colab-df-container\">\n",
              "    <div>\n",
              "<style scoped>\n",
              "    .dataframe tbody tr th:only-of-type {\n",
              "        vertical-align: middle;\n",
              "    }\n",
              "\n",
              "    .dataframe tbody tr th {\n",
              "        vertical-align: top;\n",
              "    }\n",
              "\n",
              "    .dataframe thead th {\n",
              "        text-align: right;\n",
              "    }\n",
              "</style>\n",
              "<table border=\"1\" class=\"dataframe\">\n",
              "  <thead>\n",
              "    <tr style=\"text-align: right;\">\n",
              "      <th></th>\n",
              "      <th>age</th>\n",
              "      <th>sex</th>\n",
              "      <th>bmi</th>\n",
              "      <th>children</th>\n",
              "      <th>smoker</th>\n",
              "      <th>region</th>\n",
              "      <th>charges</th>\n",
              "    </tr>\n",
              "  </thead>\n",
              "  <tbody>\n",
              "    <tr>\n",
              "      <th>0</th>\n",
              "      <td>10-30</td>\n",
              "      <td>p</td>\n",
              "      <td>27.*</td>\n",
              "      <td>0</td>\n",
              "      <td>yes</td>\n",
              "      <td>southwest</td>\n",
              "      <td>16884.9**</td>\n",
              "    </tr>\n",
              "    <tr>\n",
              "      <th>1</th>\n",
              "      <td>10-30</td>\n",
              "      <td>p</td>\n",
              "      <td>33.7*</td>\n",
              "      <td>1</td>\n",
              "      <td>no</td>\n",
              "      <td>southeast</td>\n",
              "      <td>1725.55**</td>\n",
              "    </tr>\n",
              "    <tr>\n",
              "      <th>2</th>\n",
              "      <td>10-30</td>\n",
              "      <td>p</td>\n",
              "      <td>33.*</td>\n",
              "      <td>3</td>\n",
              "      <td>no</td>\n",
              "      <td>southeast</td>\n",
              "      <td>4449.4**</td>\n",
              "    </tr>\n",
              "    <tr>\n",
              "      <th>3</th>\n",
              "      <td>30-50</td>\n",
              "      <td>p</td>\n",
              "      <td>22.70*</td>\n",
              "      <td>0</td>\n",
              "      <td>no</td>\n",
              "      <td>northwest</td>\n",
              "      <td>21984.470**</td>\n",
              "    </tr>\n",
              "    <tr>\n",
              "      <th>4</th>\n",
              "      <td>30-50</td>\n",
              "      <td>p</td>\n",
              "      <td>28.8*</td>\n",
              "      <td>0</td>\n",
              "      <td>no</td>\n",
              "      <td>northwest</td>\n",
              "      <td>3866.85**</td>\n",
              "    </tr>\n",
              "    <tr>\n",
              "      <th>...</th>\n",
              "      <td>...</td>\n",
              "      <td>...</td>\n",
              "      <td>...</td>\n",
              "      <td>...</td>\n",
              "      <td>...</td>\n",
              "      <td>...</td>\n",
              "      <td>...</td>\n",
              "    </tr>\n",
              "    <tr>\n",
              "      <th>1333</th>\n",
              "      <td>50-70</td>\n",
              "      <td>p</td>\n",
              "      <td>30.9*</td>\n",
              "      <td>3</td>\n",
              "      <td>no</td>\n",
              "      <td>northwest</td>\n",
              "      <td>10600.54**</td>\n",
              "    </tr>\n",
              "    <tr>\n",
              "      <th>1334</th>\n",
              "      <td>10-30</td>\n",
              "      <td>p</td>\n",
              "      <td>31.9*</td>\n",
              "      <td>0</td>\n",
              "      <td>no</td>\n",
              "      <td>northeast</td>\n",
              "      <td>2205.98**</td>\n",
              "    </tr>\n",
              "    <tr>\n",
              "      <th>1335</th>\n",
              "      <td>10-30</td>\n",
              "      <td>p</td>\n",
              "      <td>36.8*</td>\n",
              "      <td>0</td>\n",
              "      <td>no</td>\n",
              "      <td>southeast</td>\n",
              "      <td>1629.83**</td>\n",
              "    </tr>\n",
              "    <tr>\n",
              "      <th>1336</th>\n",
              "      <td>10-30</td>\n",
              "      <td>p</td>\n",
              "      <td>25.*</td>\n",
              "      <td>0</td>\n",
              "      <td>no</td>\n",
              "      <td>southwest</td>\n",
              "      <td>2007.9**</td>\n",
              "    </tr>\n",
              "    <tr>\n",
              "      <th>1337</th>\n",
              "      <td>50-70</td>\n",
              "      <td>p</td>\n",
              "      <td>29.0*</td>\n",
              "      <td>0</td>\n",
              "      <td>yes</td>\n",
              "      <td>northwest</td>\n",
              "      <td>29141.36**</td>\n",
              "    </tr>\n",
              "  </tbody>\n",
              "</table>\n",
              "<p>1338 rows × 7 columns</p>\n",
              "</div>\n",
              "    <div class=\"colab-df-buttons\">\n",
              "\n",
              "  <div class=\"colab-df-container\">\n",
              "    <button class=\"colab-df-convert\" onclick=\"convertToInteractive('df-09ad69bf-9265-438b-9c30-d6b04a6e51c1')\"\n",
              "            title=\"Convert this dataframe to an interactive table.\"\n",
              "            style=\"display:none;\">\n",
              "\n",
              "  <svg xmlns=\"http://www.w3.org/2000/svg\" height=\"24px\" viewBox=\"0 -960 960 960\">\n",
              "    <path d=\"M120-120v-720h720v720H120Zm60-500h600v-160H180v160Zm220 220h160v-160H400v160Zm0 220h160v-160H400v160ZM180-400h160v-160H180v160Zm440 0h160v-160H620v160ZM180-180h160v-160H180v160Zm440 0h160v-160H620v160Z\"/>\n",
              "  </svg>\n",
              "    </button>\n",
              "\n",
              "  <style>\n",
              "    .colab-df-container {\n",
              "      display:flex;\n",
              "      gap: 12px;\n",
              "    }\n",
              "\n",
              "    .colab-df-convert {\n",
              "      background-color: #E8F0FE;\n",
              "      border: none;\n",
              "      border-radius: 50%;\n",
              "      cursor: pointer;\n",
              "      display: none;\n",
              "      fill: #1967D2;\n",
              "      height: 32px;\n",
              "      padding: 0 0 0 0;\n",
              "      width: 32px;\n",
              "    }\n",
              "\n",
              "    .colab-df-convert:hover {\n",
              "      background-color: #E2EBFA;\n",
              "      box-shadow: 0px 1px 2px rgba(60, 64, 67, 0.3), 0px 1px 3px 1px rgba(60, 64, 67, 0.15);\n",
              "      fill: #174EA6;\n",
              "    }\n",
              "\n",
              "    .colab-df-buttons div {\n",
              "      margin-bottom: 4px;\n",
              "    }\n",
              "\n",
              "    [theme=dark] .colab-df-convert {\n",
              "      background-color: #3B4455;\n",
              "      fill: #D2E3FC;\n",
              "    }\n",
              "\n",
              "    [theme=dark] .colab-df-convert:hover {\n",
              "      background-color: #434B5C;\n",
              "      box-shadow: 0px 1px 3px 1px rgba(0, 0, 0, 0.15);\n",
              "      filter: drop-shadow(0px 1px 2px rgba(0, 0, 0, 0.3));\n",
              "      fill: #FFFFFF;\n",
              "    }\n",
              "  </style>\n",
              "\n",
              "    <script>\n",
              "      const buttonEl =\n",
              "        document.querySelector('#df-09ad69bf-9265-438b-9c30-d6b04a6e51c1 button.colab-df-convert');\n",
              "      buttonEl.style.display =\n",
              "        google.colab.kernel.accessAllowed ? 'block' : 'none';\n",
              "\n",
              "      async function convertToInteractive(key) {\n",
              "        const element = document.querySelector('#df-09ad69bf-9265-438b-9c30-d6b04a6e51c1');\n",
              "        const dataTable =\n",
              "          await google.colab.kernel.invokeFunction('convertToInteractive',\n",
              "                                                    [key], {});\n",
              "        if (!dataTable) return;\n",
              "\n",
              "        const docLinkHtml = 'Like what you see? Visit the ' +\n",
              "          '<a target=\"_blank\" href=https://colab.research.google.com/notebooks/data_table.ipynb>data table notebook</a>'\n",
              "          + ' to learn more about interactive tables.';\n",
              "        element.innerHTML = '';\n",
              "        dataTable['output_type'] = 'display_data';\n",
              "        await google.colab.output.renderOutput(dataTable, element);\n",
              "        const docLink = document.createElement('div');\n",
              "        docLink.innerHTML = docLinkHtml;\n",
              "        element.appendChild(docLink);\n",
              "      }\n",
              "    </script>\n",
              "  </div>\n",
              "\n",
              "\n",
              "<div id=\"df-c0a3b071-5319-401f-829a-873f7476edb2\">\n",
              "  <button class=\"colab-df-quickchart\" onclick=\"quickchart('df-c0a3b071-5319-401f-829a-873f7476edb2')\"\n",
              "            title=\"Suggest charts.\"\n",
              "            style=\"display:none;\">\n",
              "\n",
              "<svg xmlns=\"http://www.w3.org/2000/svg\" height=\"24px\"viewBox=\"0 0 24 24\"\n",
              "     width=\"24px\">\n",
              "    <g>\n",
              "        <path d=\"M19 3H5c-1.1 0-2 .9-2 2v14c0 1.1.9 2 2 2h14c1.1 0 2-.9 2-2V5c0-1.1-.9-2-2-2zM9 17H7v-7h2v7zm4 0h-2V7h2v10zm4 0h-2v-4h2v4z\"/>\n",
              "    </g>\n",
              "</svg>\n",
              "  </button>\n",
              "\n",
              "<style>\n",
              "  .colab-df-quickchart {\n",
              "      --bg-color: #E8F0FE;\n",
              "      --fill-color: #1967D2;\n",
              "      --hover-bg-color: #E2EBFA;\n",
              "      --hover-fill-color: #174EA6;\n",
              "      --disabled-fill-color: #AAA;\n",
              "      --disabled-bg-color: #DDD;\n",
              "  }\n",
              "\n",
              "  [theme=dark] .colab-df-quickchart {\n",
              "      --bg-color: #3B4455;\n",
              "      --fill-color: #D2E3FC;\n",
              "      --hover-bg-color: #434B5C;\n",
              "      --hover-fill-color: #FFFFFF;\n",
              "      --disabled-bg-color: #3B4455;\n",
              "      --disabled-fill-color: #666;\n",
              "  }\n",
              "\n",
              "  .colab-df-quickchart {\n",
              "    background-color: var(--bg-color);\n",
              "    border: none;\n",
              "    border-radius: 50%;\n",
              "    cursor: pointer;\n",
              "    display: none;\n",
              "    fill: var(--fill-color);\n",
              "    height: 32px;\n",
              "    padding: 0;\n",
              "    width: 32px;\n",
              "  }\n",
              "\n",
              "  .colab-df-quickchart:hover {\n",
              "    background-color: var(--hover-bg-color);\n",
              "    box-shadow: 0 1px 2px rgba(60, 64, 67, 0.3), 0 1px 3px 1px rgba(60, 64, 67, 0.15);\n",
              "    fill: var(--button-hover-fill-color);\n",
              "  }\n",
              "\n",
              "  .colab-df-quickchart-complete:disabled,\n",
              "  .colab-df-quickchart-complete:disabled:hover {\n",
              "    background-color: var(--disabled-bg-color);\n",
              "    fill: var(--disabled-fill-color);\n",
              "    box-shadow: none;\n",
              "  }\n",
              "\n",
              "  .colab-df-spinner {\n",
              "    border: 2px solid var(--fill-color);\n",
              "    border-color: transparent;\n",
              "    border-bottom-color: var(--fill-color);\n",
              "    animation:\n",
              "      spin 1s steps(1) infinite;\n",
              "  }\n",
              "\n",
              "  @keyframes spin {\n",
              "    0% {\n",
              "      border-color: transparent;\n",
              "      border-bottom-color: var(--fill-color);\n",
              "      border-left-color: var(--fill-color);\n",
              "    }\n",
              "    20% {\n",
              "      border-color: transparent;\n",
              "      border-left-color: var(--fill-color);\n",
              "      border-top-color: var(--fill-color);\n",
              "    }\n",
              "    30% {\n",
              "      border-color: transparent;\n",
              "      border-left-color: var(--fill-color);\n",
              "      border-top-color: var(--fill-color);\n",
              "      border-right-color: var(--fill-color);\n",
              "    }\n",
              "    40% {\n",
              "      border-color: transparent;\n",
              "      border-right-color: var(--fill-color);\n",
              "      border-top-color: var(--fill-color);\n",
              "    }\n",
              "    60% {\n",
              "      border-color: transparent;\n",
              "      border-right-color: var(--fill-color);\n",
              "    }\n",
              "    80% {\n",
              "      border-color: transparent;\n",
              "      border-right-color: var(--fill-color);\n",
              "      border-bottom-color: var(--fill-color);\n",
              "    }\n",
              "    90% {\n",
              "      border-color: transparent;\n",
              "      border-bottom-color: var(--fill-color);\n",
              "    }\n",
              "  }\n",
              "</style>\n",
              "\n",
              "  <script>\n",
              "    async function quickchart(key) {\n",
              "      const quickchartButtonEl =\n",
              "        document.querySelector('#' + key + ' button');\n",
              "      quickchartButtonEl.disabled = true;  // To prevent multiple clicks.\n",
              "      quickchartButtonEl.classList.add('colab-df-spinner');\n",
              "      try {\n",
              "        const charts = await google.colab.kernel.invokeFunction(\n",
              "            'suggestCharts', [key], {});\n",
              "      } catch (error) {\n",
              "        console.error('Error during call to suggestCharts:', error);\n",
              "      }\n",
              "      quickchartButtonEl.classList.remove('colab-df-spinner');\n",
              "      quickchartButtonEl.classList.add('colab-df-quickchart-complete');\n",
              "    }\n",
              "    (() => {\n",
              "      let quickchartButtonEl =\n",
              "        document.querySelector('#df-c0a3b071-5319-401f-829a-873f7476edb2 button');\n",
              "      quickchartButtonEl.style.display =\n",
              "        google.colab.kernel.accessAllowed ? 'block' : 'none';\n",
              "    })();\n",
              "  </script>\n",
              "</div>\n",
              "    </div>\n",
              "  </div>\n"
            ]
          },
          "metadata": {},
          "execution_count": 20
        }
      ]
    },
    {
      "cell_type": "markdown",
      "source": [
        "Incognito\n"
      ],
      "metadata": {
        "id": "9xSzgPf19K7-"
      }
    },
    {
      "cell_type": "code",
      "source": [
        "def incognito(quasi_identifiers,generalizations, data, k):\n",
        "  hirarchy = generate_combinations(generalizations)\n",
        "  c = hirarchy.copy()\n",
        "  s = []\n",
        "  while len(c) != 0:\n",
        "    node = c.pop()\n",
        "    df = generalize(node, data)\n",
        "    if k_Anonymous(df, quasi_identifiers, k):\n",
        "      s.append(node)\n",
        "      c, filterd = remove_direct_generalizations(node, c)\n",
        "      print(filterd)\n",
        "      s = s + filterd\n",
        "\n",
        "\n",
        "  return s, c"
      ],
      "metadata": {
        "id": "2JGROix99Ngt"
      },
      "execution_count": null,
      "outputs": []
    },
    {
      "cell_type": "code",
      "source": [
        "s, c = incognito(quasi_identifiers, generalizations, data, 3)"
      ],
      "metadata": {
        "colab": {
          "base_uri": "https://localhost:8080/"
        },
        "id": "kAQ7je8jLbT7",
        "outputId": "f607d43b-cdd8-4101-b73c-e655179ff95b"
      },
      "execution_count": null,
      "outputs": [
        {
          "output_type": "stream",
          "name": "stdout",
          "text": [
            "[]\n",
            "[]\n",
            "[]\n",
            "[]\n"
          ]
        }
      ]
    },
    {
      "cell_type": "code",
      "source": [
        "s"
      ],
      "metadata": {
        "colab": {
          "base_uri": "https://localhost:8080/"
        },
        "id": "2Qj4E-mFL3eT",
        "outputId": "7b529a3a-bfeb-49ed-c170-4b9cff4da39c"
      },
      "execution_count": null,
      "outputs": [
        {
          "output_type": "execute_result",
          "data": {
            "text/plain": [
              "[{'sex': 1, 'age': 1, 'bmi': 3, 'charges': 3},\n",
              " {'sex': 1, 'age': 0, 'bmi': 3, 'charges': 3},\n",
              " {'sex': 0, 'age': 1, 'bmi': 3, 'charges': 3},\n",
              " {'sex': 0, 'age': 0, 'bmi': 3, 'charges': 3}]"
            ]
          },
          "metadata": {},
          "execution_count": 42
        }
      ]
    },
    {
      "cell_type": "code",
      "source": [
        "c"
      ],
      "metadata": {
        "colab": {
          "base_uri": "https://localhost:8080/"
        },
        "id": "jh89PafQL47B",
        "outputId": "fce642a2-b665-490d-a170-8f0bc2ea6500"
      },
      "execution_count": null,
      "outputs": [
        {
          "output_type": "execute_result",
          "data": {
            "text/plain": [
              "[]"
            ]
          },
          "metadata": {},
          "execution_count": 36
        }
      ]
    }
  ]
}